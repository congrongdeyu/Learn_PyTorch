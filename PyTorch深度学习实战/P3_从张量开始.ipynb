{
 "cells": [
  {
   "cell_type": "markdown",
   "source": [
    "### 3.2.1 从 Python 列表到 PyTorch 张量"
   ],
   "metadata": {
    "collapsed": false
   }
  },
  {
   "cell_type": "code",
   "execution_count": 1,
   "outputs": [],
   "source": [
    "a = [1.0, 2.0, 1.0]"
   ],
   "metadata": {
    "collapsed": false
   }
  },
  {
   "cell_type": "code",
   "execution_count": 2,
   "outputs": [
    {
     "data": {
      "text/plain": "1.0"
     },
     "execution_count": 2,
     "metadata": {},
     "output_type": "execute_result"
    }
   ],
   "source": [
    "a[0]"
   ],
   "metadata": {
    "collapsed": false
   }
  },
  {
   "cell_type": "code",
   "execution_count": 3,
   "outputs": [
    {
     "data": {
      "text/plain": "[1.0, 2.0, 3.0]"
     },
     "execution_count": 3,
     "metadata": {},
     "output_type": "execute_result"
    }
   ],
   "source": [
    "a[2] = 3.0\n",
    "a"
   ],
   "metadata": {
    "collapsed": false
   }
  },
  {
   "cell_type": "code",
   "execution_count": 4,
   "outputs": [
    {
     "data": {
      "text/plain": "tensor([1., 1., 1.])"
     },
     "execution_count": 4,
     "metadata": {},
     "output_type": "execute_result"
    }
   ],
   "source": [
    "import torch\n",
    "\n",
    "a = torch.ones(3)\n",
    "a"
   ],
   "metadata": {
    "collapsed": false
   }
  },
  {
   "cell_type": "code",
   "execution_count": 5,
   "outputs": [
    {
     "data": {
      "text/plain": "tensor(1.)"
     },
     "execution_count": 5,
     "metadata": {},
     "output_type": "execute_result"
    }
   ],
   "source": [
    "a[1]"
   ],
   "metadata": {
    "collapsed": false
   }
  },
  {
   "cell_type": "code",
   "execution_count": 6,
   "outputs": [
    {
     "data": {
      "text/plain": "1.0"
     },
     "execution_count": 6,
     "metadata": {},
     "output_type": "execute_result"
    }
   ],
   "source": [
    "float(a[1])"
   ],
   "metadata": {
    "collapsed": false
   }
  },
  {
   "cell_type": "code",
   "execution_count": 7,
   "outputs": [
    {
     "data": {
      "text/plain": "tensor([1., 1., 2.])"
     },
     "execution_count": 7,
     "metadata": {},
     "output_type": "execute_result"
    }
   ],
   "source": [
    "a[2] = 2.0\n",
    "a"
   ],
   "metadata": {
    "collapsed": false
   }
  },
  {
   "cell_type": "markdown",
   "source": [
    "### 3.2.3 张量的本质"
   ],
   "metadata": {
    "collapsed": false
   }
  },
  {
   "cell_type": "code",
   "execution_count": 8,
   "outputs": [
    {
     "data": {
      "text/plain": "tensor([4., 1., 5., 3., 2., 1.])"
     },
     "execution_count": 8,
     "metadata": {},
     "output_type": "execute_result"
    }
   ],
   "source": [
    "points = torch.zeros(6)\n",
    "points[0] = 4.0\n",
    "points[1] = 1.0\n",
    "points[2] = 5.0\n",
    "points[3] = 3.0\n",
    "points[4] = 2.0\n",
    "points[5] = 1.0\n",
    "points"
   ],
   "metadata": {
    "collapsed": false
   }
  },
  {
   "cell_type": "code",
   "execution_count": 9,
   "outputs": [
    {
     "data": {
      "text/plain": "tensor([4., 1., 5., 3., 2., 1.])"
     },
     "execution_count": 9,
     "metadata": {},
     "output_type": "execute_result"
    }
   ],
   "source": [
    "points = torch.tensor([4.0, 1.0, 5.0, 3.0, 2.0, 1.0])\n",
    "points"
   ],
   "metadata": {
    "collapsed": false
   }
  },
  {
   "cell_type": "code",
   "execution_count": 10,
   "outputs": [
    {
     "data": {
      "text/plain": "(4.0, 1.0)"
     },
     "execution_count": 10,
     "metadata": {},
     "output_type": "execute_result"
    }
   ],
   "source": [
    "float(points[0]), float(points[1])"
   ],
   "metadata": {
    "collapsed": false
   }
  },
  {
   "cell_type": "code",
   "execution_count": 11,
   "outputs": [
    {
     "data": {
      "text/plain": "tensor([[4., 1.],\n        [5., 3.],\n        [2., 1.]])"
     },
     "execution_count": 11,
     "metadata": {},
     "output_type": "execute_result"
    }
   ],
   "source": [
    "points = torch.tensor([[4.0, 1.0], [5.0, 3.0], [2.0, 1.0]])\n",
    "points"
   ],
   "metadata": {
    "collapsed": false
   }
  },
  {
   "cell_type": "code",
   "execution_count": 12,
   "outputs": [
    {
     "data": {
      "text/plain": "torch.Size([3, 2])"
     },
     "execution_count": 12,
     "metadata": {},
     "output_type": "execute_result"
    }
   ],
   "source": [
    "points.shape"
   ],
   "metadata": {
    "collapsed": false
   }
  },
  {
   "cell_type": "code",
   "execution_count": 13,
   "outputs": [
    {
     "data": {
      "text/plain": "tensor([[0., 0.],\n        [0., 0.],\n        [0., 0.]])"
     },
     "execution_count": 13,
     "metadata": {},
     "output_type": "execute_result"
    }
   ],
   "source": [
    "points = torch.zeros(3, 2)\n",
    "points"
   ],
   "metadata": {
    "collapsed": false
   }
  },
  {
   "cell_type": "code",
   "execution_count": 14,
   "outputs": [
    {
     "data": {
      "text/plain": "tensor([[4., 1.],\n        [5., 3.],\n        [2., 1.]])"
     },
     "execution_count": 14,
     "metadata": {},
     "output_type": "execute_result"
    }
   ],
   "source": [
    "points = torch.tensor([[4.0, 1.0], [5.0, 3.0], [2.0, 1.0]])\n",
    "points"
   ],
   "metadata": {
    "collapsed": false
   }
  },
  {
   "cell_type": "code",
   "execution_count": 15,
   "outputs": [
    {
     "data": {
      "text/plain": "tensor(1.)"
     },
     "execution_count": 15,
     "metadata": {},
     "output_type": "execute_result"
    }
   ],
   "source": [
    "points[0, 1]"
   ],
   "metadata": {
    "collapsed": false
   }
  },
  {
   "cell_type": "code",
   "execution_count": 16,
   "outputs": [
    {
     "data": {
      "text/plain": "tensor([4., 1.])"
     },
     "execution_count": 16,
     "metadata": {},
     "output_type": "execute_result"
    }
   ],
   "source": [
    "points[0]"
   ],
   "metadata": {
    "collapsed": false
   }
  },
  {
   "cell_type": "markdown",
   "source": [
    "## 3.3 索引张量"
   ],
   "metadata": {
    "collapsed": false
   }
  },
  {
   "cell_type": "code",
   "execution_count": 17,
   "outputs": [
    {
     "data": {
      "text/plain": "tensor([[5., 3.],\n        [2., 1.]])"
     },
     "execution_count": 17,
     "metadata": {},
     "output_type": "execute_result"
    }
   ],
   "source": [
    "points[1:]"
   ],
   "metadata": {
    "collapsed": false
   }
  },
  {
   "cell_type": "code",
   "execution_count": 18,
   "outputs": [
    {
     "data": {
      "text/plain": "tensor([[5., 3.],\n        [2., 1.]])"
     },
     "execution_count": 18,
     "metadata": {},
     "output_type": "execute_result"
    }
   ],
   "source": [
    "points[1:, :]"
   ],
   "metadata": {
    "collapsed": false
   }
  },
  {
   "cell_type": "code",
   "execution_count": 19,
   "outputs": [
    {
     "data": {
      "text/plain": "tensor([5., 2.])"
     },
     "execution_count": 19,
     "metadata": {},
     "output_type": "execute_result"
    }
   ],
   "source": [
    "points[1:, 0]"
   ],
   "metadata": {
    "collapsed": false
   }
  },
  {
   "cell_type": "code",
   "execution_count": 20,
   "outputs": [
    {
     "data": {
      "text/plain": "tensor([[[4., 1.],\n         [5., 3.],\n         [2., 1.]]])"
     },
     "execution_count": 20,
     "metadata": {},
     "output_type": "execute_result"
    }
   ],
   "source": [
    "points[None]"
   ],
   "metadata": {
    "collapsed": false
   }
  },
  {
   "cell_type": "markdown",
   "source": [
    "## 3.4 命名张量"
   ],
   "metadata": {
    "collapsed": false
   }
  },
  {
   "cell_type": "code",
   "execution_count": 21,
   "outputs": [
    {
     "data": {
      "text/plain": "tensor([[[ 4.8440e-01,  8.8198e-01,  2.7926e-01,  1.4559e+00,  6.8543e-03],\n         [-3.1018e-01,  1.0222e+00,  2.9939e-01, -1.1412e+00,  1.2415e+00],\n         [ 1.0753e+00,  1.5666e+00,  1.5215e+00,  5.7134e-01,  1.5227e+00],\n         [ 7.2092e-02, -3.5374e-01, -1.1719e+00, -1.3437e+00, -4.0863e-01],\n         [ 2.6376e+00, -3.7575e-01,  9.8120e-02,  3.5356e-01, -6.9156e-01]],\n\n        [[ 4.5009e-02,  5.3280e-01, -1.5943e+00,  1.0826e+00,  2.3970e+00],\n         [ 4.6953e-01,  5.7612e-01,  3.9899e-01, -4.8787e-01,  1.2667e-01],\n         [ 1.0613e+00,  5.0753e-01, -1.6200e-01, -1.1259e+00,  2.2169e-01],\n         [-1.2203e+00,  6.0524e-01, -1.2988e+00,  1.4768e+00,  2.4918e-01],\n         [-6.0506e-01, -1.2308e+00, -8.6764e-01,  8.7060e-02,  1.6631e+00]],\n\n        [[-1.1143e+00,  1.3926e+00, -2.1637e+00, -1.5026e-03, -1.2554e+00],\n         [ 1.3642e+00,  5.0821e-01,  5.3825e-02,  1.1947e+00,  1.7433e-01],\n         [-5.0468e-01,  3.4789e-01,  3.1970e-01, -1.0256e-01,  1.0842e+00],\n         [-9.5427e-01, -2.3391e-01, -1.5484e+00,  4.4804e-01,  1.4343e+00],\n         [-1.5384e+00,  8.9039e-01,  9.5760e-01,  6.0160e-01, -1.0651e+00]]])"
     },
     "execution_count": 21,
     "metadata": {},
     "output_type": "execute_result"
    }
   ],
   "source": [
    "img_t = torch.randn(3, 5, 5)\n",
    "img_t"
   ],
   "metadata": {
    "collapsed": false
   }
  },
  {
   "cell_type": "code",
   "execution_count": 22,
   "outputs": [
    {
     "data": {
      "text/plain": "tensor([0.2126, 0.7152, 0.0722])"
     },
     "execution_count": 22,
     "metadata": {},
     "output_type": "execute_result"
    }
   ],
   "source": [
    "weights = torch.tensor([0.2126, 0.7152, 0.0722])\n",
    "weights"
   ],
   "metadata": {
    "collapsed": false
   }
  },
  {
   "cell_type": "code",
   "execution_count": 23,
   "outputs": [
    {
     "data": {
      "text/plain": "tensor([[[[-0.1089,  0.0500,  0.4507, -0.9297,  0.3050],\n          [-0.2154,  0.2455, -1.8465, -0.5148, -0.3447],\n          [ 0.5459, -0.1138,  0.6568,  0.8274, -0.4142],\n          [ 0.7161, -0.3949, -0.2938,  1.5770, -0.1347],\n          [ 0.2745,  0.1481,  1.6340,  1.2752, -0.7677]],\n\n         [[ 0.2713,  1.3213,  1.2670,  0.3995,  0.1726],\n          [-0.3849, -0.3180,  0.4133, -0.0901,  1.2889],\n          [-1.0583,  2.1563,  1.0159,  2.0020, -0.5686],\n          [-1.2199, -0.4464,  1.2580, -1.1466, -1.0876],\n          [-0.1226,  0.6539,  1.7329,  0.3559, -0.0839]],\n\n         [[-0.7459,  2.2489,  0.2931, -0.9879,  0.1461],\n          [ 0.9545, -2.5840, -0.2718, -0.6872,  0.2812],\n          [-0.0907, -0.4865,  0.6384, -0.5080,  1.3905],\n          [-0.8127,  0.3222, -0.0633,  0.8922, -0.6999],\n          [-0.8663, -0.3978, -1.1409, -0.9002, -1.5194]]],\n\n\n        [[[ 0.1229,  1.1436,  1.1538,  1.9187, -0.7145],\n          [-0.7262, -0.1961,  1.9447, -2.7476,  0.5643],\n          [ 0.1909, -1.0727,  0.1652, -0.9799,  0.7858],\n          [ 0.9349,  0.1894, -2.5363, -0.7520, -0.8312],\n          [ 1.4537,  0.1159,  1.1532, -1.8789, -0.2137]],\n\n         [[ 0.0871,  0.2819,  1.0848,  0.5738, -0.6555],\n          [ 0.3924, -0.7161, -0.2090, -0.5333,  0.8396],\n          [ 0.8911, -0.9435,  0.0617,  1.5417,  1.0490],\n          [ 0.8070, -1.7096, -0.8616,  1.8609,  0.0286],\n          [-0.4111, -0.9402, -0.7551, -0.7891,  1.4829]],\n\n         [[-1.7798,  0.5202, -0.6806,  1.2748, -0.6442],\n          [-0.6206,  1.2974,  0.1627,  1.7154,  0.4615],\n          [ 0.2924, -0.1981, -1.2931,  2.9377, -0.0810],\n          [ 0.4798,  1.8493, -0.9696, -0.1676, -1.2466],\n          [ 0.9620, -1.8335, -0.5874,  1.5645, -1.4549]]]])"
     },
     "execution_count": 23,
     "metadata": {},
     "output_type": "execute_result"
    }
   ],
   "source": [
    "batch_t = torch.randn(2, 3, 5, 5)\n",
    "batch_t"
   ],
   "metadata": {
    "collapsed": false
   }
  },
  {
   "cell_type": "code",
   "execution_count": 24,
   "outputs": [
    {
     "data": {
      "text/plain": "tensor([[-0.1950,  0.9358, -1.1596,  0.8457,  0.3828],\n        [ 0.5079,  0.7022,  0.2507, -0.1448,  0.5142],\n        [ 0.5440,  0.8074,  0.5597, -0.2190,  0.9429],\n        [-0.7008,  0.0059, -1.3397,  0.1937,  0.4250],\n        [ 0.1647, -0.2387,  0.0627,  0.3474, -0.0312]])"
     },
     "execution_count": 24,
     "metadata": {},
     "output_type": "execute_result"
    }
   ],
   "source": [
    "# 沿倒数第三个维度计算平均值\n",
    "img_gray_native = img_t.mean(-3)\n",
    "img_gray_native"
   ],
   "metadata": {
    "collapsed": false
   }
  },
  {
   "cell_type": "code",
   "execution_count": 25,
   "outputs": [
    {
     "data": {
      "text/plain": "tensor([[[-0.1945,  1.2067,  0.6703, -0.5060,  0.2079],\n         [ 0.1181, -0.8855, -0.5683, -0.4307,  0.4085],\n         [-0.2010,  0.5187,  0.7704,  0.7738,  0.1359],\n         [-0.4389, -0.1730,  0.3003,  0.4409, -0.6407],\n         [-0.2382,  0.1347,  0.7420,  0.2436, -0.7904]],\n\n        [[-0.5232,  0.6486,  0.5193,  1.2558, -0.6714],\n         [-0.3182,  0.1284,  0.6328, -0.5218,  0.6218],\n         [ 0.4581, -0.7381, -0.3554,  1.1665,  0.5846],\n         [ 0.7406,  0.1097, -1.4558,  0.3138, -0.6831],\n         [ 0.6682, -0.8859, -0.0631, -0.3678, -0.0619]]])"
     },
     "execution_count": 25,
     "metadata": {},
     "output_type": "execute_result"
    }
   ],
   "source": [
    "batch_gray_native = batch_t.mean(-3)\n",
    "batch_gray_native"
   ],
   "metadata": {
    "collapsed": false
   }
  },
  {
   "cell_type": "code",
   "execution_count": 26,
   "outputs": [
    {
     "data": {
      "text/plain": "(torch.Size([5, 5]), torch.Size([2, 5, 5]))"
     },
     "execution_count": 26,
     "metadata": {},
     "output_type": "execute_result"
    }
   ],
   "source": [
    "img_gray_native.shape, batch_gray_native.shape"
   ],
   "metadata": {
    "collapsed": false
   }
  },
  {
   "cell_type": "code",
   "execution_count": 27,
   "outputs": [
    {
     "data": {
      "text/plain": "tensor([0.2126, 0.7152, 0.0722])"
     },
     "execution_count": 27,
     "metadata": {},
     "output_type": "execute_result"
    }
   ],
   "source": [
    "weights"
   ],
   "metadata": {
    "collapsed": false
   }
  },
  {
   "cell_type": "code",
   "execution_count": 28,
   "outputs": [
    {
     "data": {
      "text/plain": "(tensor([[[0.2126]],\n \n         [[0.7152]],\n \n         [[0.0722]]]),\n torch.Size([3, 1, 1]))"
     },
     "execution_count": 28,
     "metadata": {},
     "output_type": "execute_result"
    }
   ],
   "source": [
    "unsqueezed_weights = weights.unsqueeze(-1).unsqueeze(-1)\n",
    "unsqueezed_weights, unsqueezed_weights.shape"
   ],
   "metadata": {
    "collapsed": false
   }
  },
  {
   "cell_type": "code",
   "execution_count": 29,
   "outputs": [
    {
     "data": {
      "text/plain": "(tensor([[[ 1.0298e-01,  1.8751e-01,  5.9371e-02,  3.0953e-01,  1.4572e-03],\n          [-6.5945e-02,  2.1733e-01,  6.3650e-02, -2.4262e-01,  2.6394e-01],\n          [ 2.2861e-01,  3.3307e-01,  3.2347e-01,  1.2147e-01,  3.2373e-01],\n          [ 1.5327e-02, -7.5204e-02, -2.4916e-01, -2.8567e-01, -8.6876e-02],\n          [ 5.6076e-01, -7.9885e-02,  2.0860e-02,  7.5167e-02, -1.4703e-01]],\n \n         [[ 3.2190e-02,  3.8106e-01, -1.1402e+00,  7.7426e-01,  1.7143e+00],\n          [ 3.3581e-01,  4.1204e-01,  2.8536e-01, -3.4892e-01,  9.0594e-02],\n          [ 7.5905e-01,  3.6299e-01, -1.1586e-01, -8.0522e-01,  1.5855e-01],\n          [-8.7274e-01,  4.3287e-01, -9.2891e-01,  1.0562e+00,  1.7822e-01],\n          [-4.3274e-01, -8.8028e-01, -6.2054e-01,  6.2266e-02,  1.1894e+00]],\n \n         [[-8.0454e-02,  1.0055e-01, -1.5622e-01, -1.0849e-04, -9.0637e-02],\n          [ 9.8497e-02,  3.6693e-02,  3.8862e-03,  8.6255e-02,  1.2587e-02],\n          [-3.6438e-02,  2.5118e-02,  2.3083e-02, -7.4049e-03,  7.8280e-02],\n          [-6.8898e-02, -1.6888e-02, -1.1180e-01,  3.2348e-02,  1.0356e-01],\n          [-1.1107e-01,  6.4286e-02,  6.9138e-02,  4.3435e-02, -7.6897e-02]]]),\n torch.Size([3, 5, 5]))"
     },
     "execution_count": 29,
     "metadata": {},
     "output_type": "execute_result"
    }
   ],
   "source": [
    "img_weights = (img_t * unsqueezed_weights)\n",
    "img_weights, img_weights.shape"
   ],
   "metadata": {
    "collapsed": false
   }
  },
  {
   "cell_type": "code",
   "execution_count": 30,
   "outputs": [
    {
     "data": {
      "text/plain": "tensor([[[[-0.0232,  0.0106,  0.0958, -0.1976,  0.0648],\n          [-0.0458,  0.0522, -0.3926, -0.1095, -0.0733],\n          [ 0.1161, -0.0242,  0.1396,  0.1759, -0.0881],\n          [ 0.1522, -0.0840, -0.0625,  0.3353, -0.0286],\n          [ 0.0584,  0.0315,  0.3474,  0.2711, -0.1632]],\n\n         [[ 0.1941,  0.9450,  0.9062,  0.2857,  0.1235],\n          [-0.2753, -0.2274,  0.2956, -0.0644,  0.9218],\n          [-0.7569,  1.5422,  0.7266,  1.4318, -0.4067],\n          [-0.8725, -0.3193,  0.8997, -0.8200, -0.7779],\n          [-0.0877,  0.4676,  1.2394,  0.2546, -0.0600]],\n\n         [[-0.0539,  0.1624,  0.0212, -0.0713,  0.0105],\n          [ 0.0689, -0.1866, -0.0196, -0.0496,  0.0203],\n          [-0.0065, -0.0351,  0.0461, -0.0367,  0.1004],\n          [-0.0587,  0.0233, -0.0046,  0.0644, -0.0505],\n          [-0.0626, -0.0287, -0.0824, -0.0650, -0.1097]]],\n\n\n        [[[ 0.0261,  0.2431,  0.2453,  0.4079, -0.1519],\n          [-0.1544, -0.0417,  0.4135, -0.5841,  0.1200],\n          [ 0.0406, -0.2281,  0.0351, -0.2083,  0.1671],\n          [ 0.1988,  0.0403, -0.5392, -0.1599, -0.1767],\n          [ 0.3091,  0.0246,  0.2452, -0.3994, -0.0454]],\n\n         [[ 0.0623,  0.2016,  0.7758,  0.4104, -0.4688],\n          [ 0.2806, -0.5122, -0.1495, -0.3814,  0.6005],\n          [ 0.6373, -0.6748,  0.0441,  1.1027,  0.7503],\n          [ 0.5772, -1.2227, -0.6162,  1.3309,  0.0205],\n          [-0.2940, -0.6725, -0.5401, -0.5644,  1.0606]],\n\n         [[-0.1285,  0.0376, -0.0491,  0.0920, -0.0465],\n          [-0.0448,  0.0937,  0.0117,  0.1238,  0.0333],\n          [ 0.0211, -0.0143, -0.0934,  0.2121, -0.0059],\n          [ 0.0346,  0.1335, -0.0700, -0.0121, -0.0900],\n          [ 0.0695, -0.1324, -0.0424,  0.1130, -0.1050]]]])"
     },
     "execution_count": 30,
     "metadata": {},
     "output_type": "execute_result"
    }
   ],
   "source": [
    "batch_weights = (batch_t * unsqueezed_weights)\n",
    "batch_weights"
   ],
   "metadata": {
    "collapsed": false
   }
  },
  {
   "cell_type": "code",
   "execution_count": 31,
   "outputs": [
    {
     "data": {
      "text/plain": "tensor([[ 0.0547,  0.6691, -1.2371,  1.0837,  1.6251],\n        [ 0.3684,  0.6661,  0.3529, -0.5053,  0.3671],\n        [ 0.9512,  0.7212,  0.2307, -0.6912,  0.5606],\n        [-0.9263,  0.3408, -1.2899,  0.8029,  0.1949],\n        [ 0.0170, -0.8959, -0.5305,  0.1809,  0.9655]])"
     },
     "execution_count": 31,
     "metadata": {},
     "output_type": "execute_result"
    }
   ],
   "source": [
    "img_gray_weighted = img_weights.sum(-3)\n",
    "img_gray_weighted"
   ],
   "metadata": {
    "collapsed": false
   }
  },
  {
   "cell_type": "code",
   "execution_count": 32,
   "outputs": [
    {
     "data": {
      "text/plain": "tensor([[[ 0.1170,  1.1180,  1.0232,  0.0168,  0.1989],\n         [-0.2521, -0.3618, -0.1166, -0.2235,  0.8689],\n         [-0.6474,  1.4829,  0.9123,  1.5710, -0.3943],\n         [-0.7789, -0.3800,  0.8327, -0.4203, -0.8570],\n         [-0.0919,  0.4704,  1.5044,  0.4607, -0.3329]],\n\n        [[-0.0401,  0.4823,  0.9720,  0.9104, -0.6672],\n         [ 0.0814, -0.4602,  0.2757, -0.8417,  0.7538],\n         [ 0.6990, -0.9171, -0.0141,  1.1064,  0.9115],\n         [ 0.8106, -1.0489, -1.2255,  1.1590, -0.2463],\n         [ 0.0845, -0.7802, -0.3373, -0.8509,  0.9101]]])"
     },
     "execution_count": 32,
     "metadata": {},
     "output_type": "execute_result"
    }
   ],
   "source": [
    "batch_gray_weighted = batch_weights.sum(-3)\n",
    "batch_gray_weighted"
   ],
   "metadata": {
    "collapsed": false
   }
  },
  {
   "cell_type": "code",
   "execution_count": 33,
   "outputs": [
    {
     "data": {
      "text/plain": "(torch.Size([2, 3, 5, 5]), torch.Size([2, 3, 5, 5]), torch.Size([3, 1, 1]))"
     },
     "execution_count": 33,
     "metadata": {},
     "output_type": "execute_result"
    }
   ],
   "source": [
    "batch_weights.shape, batch_t.shape, unsqueezed_weights.shape"
   ],
   "metadata": {
    "collapsed": false
   }
  },
  {
   "cell_type": "code",
   "execution_count": 34,
   "outputs": [
    {
     "name": "stderr",
     "output_type": "stream",
     "text": [
      "C:\\Users\\dingy\\AppData\\Local\\Temp\\ipykernel_10036\\2338252810.py:1: UserWarning: Named tensors and all their associated APIs are an experimental feature and subject to change. Please do not use them for anything important until they are released as stable. (Triggered internally at C:\\cb\\pytorch_1000000000000\\work\\c10/core/TensorImpl.h:1761.)\n",
      "  weights_named = torch.tensor([0.2126, 0.7152, 0.0722], names=['channels'])\n"
     ]
    },
    {
     "data": {
      "text/plain": "tensor([0.2126, 0.7152, 0.0722], names=('channels',))"
     },
     "execution_count": 34,
     "metadata": {},
     "output_type": "execute_result"
    }
   ],
   "source": [
    "weights_named = torch.tensor([0.2126, 0.7152, 0.0722], names=['channels'])\n",
    "weights_named"
   ],
   "metadata": {
    "collapsed": false
   }
  },
  {
   "cell_type": "markdown",
   "source": [
    "### 3.5.2 适合任何场合的dtype\n",
    "32 位浮点数"
   ],
   "metadata": {
    "collapsed": false
   }
  },
  {
   "cell_type": "code",
   "execution_count": 35,
   "outputs": [
    {
     "data": {
      "text/plain": "torch.float32"
     },
     "execution_count": 35,
     "metadata": {},
     "output_type": "execute_result"
    }
   ],
   "source": [
    "torch.tensor(1.0).dtype"
   ],
   "metadata": {
    "collapsed": false
   }
  },
  {
   "cell_type": "markdown",
   "source": [
    "## 3.6 张量的 API"
   ],
   "metadata": {
    "collapsed": false
   }
  },
  {
   "cell_type": "code",
   "execution_count": 36,
   "outputs": [
    {
     "data": {
      "text/plain": "(tensor([[1., 1.],\n         [1., 1.],\n         [1., 1.]]),\n tensor([[1., 1., 1.],\n         [1., 1., 1.]]),\n torch.Size([3, 2]),\n torch.Size([2, 3]))"
     },
     "execution_count": 36,
     "metadata": {},
     "output_type": "execute_result"
    }
   ],
   "source": [
    "# 转置\n",
    "a = torch.ones(3, 2)\n",
    "a_t = torch.transpose(a, 0, 1)\n",
    "a, a_t, a.shape, a_t.shape"
   ],
   "metadata": {
    "collapsed": false
   }
  },
  {
   "cell_type": "markdown",
   "source": [
    "## 3.7 张量的存储视图"
   ],
   "metadata": {
    "collapsed": false
   }
  },
  {
   "cell_type": "markdown",
   "source": [
    "### 3.7.1 索引存储区"
   ],
   "metadata": {
    "collapsed": false
   }
  },
  {
   "cell_type": "code",
   "execution_count": 37,
   "outputs": [
    {
     "data": {
      "text/plain": " 4.0\n 1.0\n 5.0\n 3.0\n 2.0\n 1.0\n[torch.storage.TypedStorage(dtype=torch.float32, device=cpu) of size 6]"
     },
     "execution_count": 37,
     "metadata": {},
     "output_type": "execute_result"
    }
   ],
   "source": [
    "points = torch.tensor([[4.0, 1.0], [5.0, 3.0], [2.0, 1.0]])\n",
    "points.storage()"
   ],
   "metadata": {
    "collapsed": false
   }
  },
  {
   "cell_type": "markdown",
   "source": [
    "### 3.8.1 另一个张量的存储视图"
   ],
   "metadata": {
    "collapsed": false
   }
  },
  {
   "cell_type": "code",
   "execution_count": 38,
   "outputs": [
    {
     "data": {
      "text/plain": "tensor([5., 3.])"
     },
     "execution_count": 38,
     "metadata": {},
     "output_type": "execute_result"
    }
   ],
   "source": [
    "points = torch.tensor([[4.0, 1.0], [5.0, 3.0], [2.0, 1.0]])\n",
    "second_point = points[1]\n",
    "second_point"
   ],
   "metadata": {
    "collapsed": false
   }
  },
  {
   "cell_type": "code",
   "execution_count": 39,
   "outputs": [
    {
     "data": {
      "text/plain": "2"
     },
     "execution_count": 39,
     "metadata": {},
     "output_type": "execute_result"
    }
   ],
   "source": [
    "second_point.storage_offset()"
   ],
   "metadata": {
    "collapsed": false
   }
  },
  {
   "cell_type": "code",
   "execution_count": 40,
   "outputs": [
    {
     "data": {
      "text/plain": "torch.Size([2])"
     },
     "execution_count": 40,
     "metadata": {},
     "output_type": "execute_result"
    }
   ],
   "source": [
    "second_point.size()"
   ],
   "metadata": {
    "collapsed": false
   }
  },
  {
   "cell_type": "code",
   "execution_count": 41,
   "outputs": [
    {
     "data": {
      "text/plain": "torch.Size([2])"
     },
     "execution_count": 41,
     "metadata": {},
     "output_type": "execute_result"
    }
   ],
   "source": [
    "second_point.shape"
   ],
   "metadata": {
    "collapsed": false
   }
  },
  {
   "cell_type": "code",
   "execution_count": 42,
   "outputs": [
    {
     "data": {
      "text/plain": "(2, 1)"
     },
     "execution_count": 42,
     "metadata": {},
     "output_type": "execute_result"
    }
   ],
   "source": [
    "points.stride()"
   ],
   "metadata": {
    "collapsed": false
   }
  },
  {
   "cell_type": "code",
   "execution_count": 43,
   "outputs": [
    {
     "data": {
      "text/plain": "(tensor([5., 3.]), torch.Size([2]))"
     },
     "execution_count": 43,
     "metadata": {},
     "output_type": "execute_result"
    }
   ],
   "source": [
    "second_point = points[1]\n",
    "second_point, second_point.size()"
   ],
   "metadata": {
    "collapsed": false
   }
  },
  {
   "cell_type": "code",
   "execution_count": 44,
   "outputs": [
    {
     "data": {
      "text/plain": "2"
     },
     "execution_count": 44,
     "metadata": {},
     "output_type": "execute_result"
    }
   ],
   "source": [
    "second_point.storage_offset()"
   ],
   "metadata": {
    "collapsed": false
   }
  },
  {
   "cell_type": "code",
   "execution_count": 45,
   "outputs": [
    {
     "data": {
      "text/plain": "(1,)"
     },
     "execution_count": 45,
     "metadata": {},
     "output_type": "execute_result"
    }
   ],
   "source": [
    "second_point.stride()"
   ],
   "metadata": {
    "collapsed": false
   }
  },
  {
   "cell_type": "code",
   "execution_count": 47,
   "outputs": [
    {
     "data": {
      "text/plain": "tensor([[ 4.,  1.],\n        [10.,  3.],\n        [ 2.,  1.]])"
     },
     "execution_count": 47,
     "metadata": {},
     "output_type": "execute_result"
    }
   ],
   "source": [
    "# 更改子张量会对原始张量产生影响\n",
    "points = torch.tensor([[4.0, 1.0], [5.0, 3.0], [2.0, 1.0]])\n",
    "second_point = points[1]\n",
    "second_point[0] = 10.0\n",
    "points"
   ],
   "metadata": {
    "collapsed": false
   }
  },
  {
   "cell_type": "code",
   "execution_count": 48,
   "outputs": [
    {
     "data": {
      "text/plain": "tensor([[4., 1.],\n        [5., 3.],\n        [2., 1.]])"
     },
     "execution_count": 48,
     "metadata": {},
     "output_type": "execute_result"
    }
   ],
   "source": [
    "points = torch.tensor([[4.0, 1.0], [5.0, 3.0], [2.0, 1.0]])\n",
    "second_point = points[1].clone()\n",
    "second_point[0] = 10.0\n",
    "points"
   ],
   "metadata": {
    "collapsed": false
   }
  },
  {
   "cell_type": "markdown",
   "source": [
    "### 3.8.2 无复制转置"
   ],
   "metadata": {
    "collapsed": false
   }
  },
  {
   "cell_type": "code",
   "execution_count": 49,
   "outputs": [
    {
     "data": {
      "text/plain": "tensor([[4., 1.],\n        [5., 3.],\n        [2., 1.]])"
     },
     "execution_count": 49,
     "metadata": {},
     "output_type": "execute_result"
    }
   ],
   "source": [
    "points = torch.tensor([[4.0, 1.0], [5.0, 3.0], [2.0, 1.0]])\n",
    "points"
   ],
   "metadata": {
    "collapsed": false
   }
  },
  {
   "cell_type": "code",
   "execution_count": 50,
   "outputs": [
    {
     "data": {
      "text/plain": "tensor([[4., 5., 2.],\n        [1., 3., 1.]])"
     },
     "execution_count": 50,
     "metadata": {},
     "output_type": "execute_result"
    }
   ],
   "source": [
    "points_t = points.t()\n",
    "points_t"
   ],
   "metadata": {
    "collapsed": false
   }
  },
  {
   "cell_type": "code",
   "execution_count": 51,
   "outputs": [
    {
     "data": {
      "text/plain": "True"
     },
     "execution_count": 51,
     "metadata": {},
     "output_type": "execute_result"
    }
   ],
   "source": [
    "id(points.storage()) == id(points_t.storage())"
   ],
   "metadata": {
    "collapsed": false
   }
  },
  {
   "cell_type": "code",
   "execution_count": 52,
   "outputs": [
    {
     "data": {
      "text/plain": "((2, 1), (1, 2))"
     },
     "execution_count": 52,
     "metadata": {},
     "output_type": "execute_result"
    }
   ],
   "source": [
    "points.stride(), points_t.stride()"
   ],
   "metadata": {
    "collapsed": false
   }
  },
  {
   "cell_type": "markdown",
   "source": [
    "### 3.8.3 高维转置"
   ],
   "metadata": {
    "collapsed": false
   }
  },
  {
   "cell_type": "code",
   "execution_count": 53,
   "outputs": [
    {
     "data": {
      "text/plain": "torch.Size([3, 4, 5])"
     },
     "execution_count": 53,
     "metadata": {},
     "output_type": "execute_result"
    }
   ],
   "source": [
    "some_t = torch.ones(3, 4, 5)\n",
    "transpose_t = some_t.transpose(0, 2)\n",
    "some_t.shape"
   ],
   "metadata": {
    "collapsed": false
   }
  },
  {
   "cell_type": "code",
   "execution_count": 54,
   "outputs": [
    {
     "data": {
      "text/plain": "torch.Size([5, 4, 3])"
     },
     "execution_count": 54,
     "metadata": {},
     "output_type": "execute_result"
    }
   ],
   "source": [
    "transpose_t.shape"
   ],
   "metadata": {
    "collapsed": false
   }
  },
  {
   "cell_type": "code",
   "execution_count": 55,
   "outputs": [
    {
     "data": {
      "text/plain": "((20, 5, 1), (1, 5, 20))"
     },
     "execution_count": 55,
     "metadata": {},
     "output_type": "execute_result"
    }
   ],
   "source": [
    "some_t.stride(), transpose_t.stride()"
   ],
   "metadata": {
    "collapsed": false
   }
  },
  {
   "cell_type": "markdown",
   "source": [
    "### 3.8.4 连续张量"
   ],
   "metadata": {
    "collapsed": false
   }
  },
  {
   "cell_type": "code",
   "execution_count": 56,
   "outputs": [
    {
     "data": {
      "text/plain": "(True, False)"
     },
     "execution_count": 56,
     "metadata": {},
     "output_type": "execute_result"
    }
   ],
   "source": [
    "points.is_contiguous(), points_t.is_contiguous()"
   ],
   "metadata": {
    "collapsed": false
   }
  },
  {
   "cell_type": "code",
   "execution_count": 57,
   "outputs": [
    {
     "data": {
      "text/plain": "False"
     },
     "execution_count": 57,
     "metadata": {},
     "output_type": "execute_result"
    }
   ],
   "source": [
    "points_t_cont = points_t.contiguous()\n",
    "id(points_t_cont) == id(points)"
   ],
   "metadata": {
    "collapsed": false
   }
  },
  {
   "cell_type": "markdown",
   "source": [
    "## 3.9 将张量存储到 GPU"
   ],
   "metadata": {
    "collapsed": false
   }
  },
  {
   "cell_type": "code",
   "execution_count": 58,
   "outputs": [
    {
     "data": {
      "text/plain": "tensor([[4., 1.],\n        [5., 3.],\n        [2., 1.]], device='cuda:0')"
     },
     "execution_count": 58,
     "metadata": {},
     "output_type": "execute_result"
    }
   ],
   "source": [
    "points_gpu = torch.tensor([[4.0, 1.0], [5.0, 3.0], [2.0, 1.0]], device='cuda')\n",
    "points_gpu"
   ],
   "metadata": {
    "collapsed": false
   }
  },
  {
   "cell_type": "code",
   "execution_count": 59,
   "outputs": [
    {
     "data": {
      "text/plain": "tensor([[4., 1.],\n        [5., 3.],\n        [2., 1.]], device='cuda:0')"
     },
     "execution_count": 59,
     "metadata": {},
     "output_type": "execute_result"
    }
   ],
   "source": [
    "points_gpu = points.to(device='cuda')\n",
    "points_gpu"
   ],
   "metadata": {
    "collapsed": false
   }
  },
  {
   "cell_type": "code",
   "execution_count": 60,
   "outputs": [],
   "source": [
    "points_cpu = points_gpu.to(device='cpu')"
   ],
   "metadata": {
    "collapsed": false
   }
  },
  {
   "cell_type": "code",
   "execution_count": 61,
   "outputs": [
    {
     "data": {
      "text/plain": "(tensor([[4., 1.],\n         [5., 3.],\n         [2., 1.]]),\n tensor([[4., 1.],\n         [5., 3.],\n         [2., 1.]], device='cuda:0'))"
     },
     "execution_count": 61,
     "metadata": {},
     "output_type": "execute_result"
    }
   ],
   "source": [
    "points_gpu = points.cuda()\n",
    "points_cpu = points.cpu()\n",
    "points_cpu, points_gpu"
   ],
   "metadata": {
    "collapsed": false
   }
  },
  {
   "cell_type": "code",
   "execution_count": 62,
   "outputs": [
    {
     "data": {
      "text/plain": "(2257844964064, 2257845388208)"
     },
     "execution_count": 62,
     "metadata": {},
     "output_type": "execute_result"
    }
   ],
   "source": [
    "id(points_cpu), id(points_gpu)"
   ],
   "metadata": {
    "collapsed": false
   }
  },
  {
   "cell_type": "markdown",
   "source": [
    "## 3.10 NumPy 互操作性"
   ],
   "metadata": {
    "collapsed": false
   }
  },
  {
   "cell_type": "code",
   "execution_count": 63,
   "outputs": [
    {
     "data": {
      "text/plain": "array([[1., 1., 1., 1.],\n       [1., 1., 1., 1.],\n       [1., 1., 1., 1.]], dtype=float32)"
     },
     "execution_count": 63,
     "metadata": {},
     "output_type": "execute_result"
    }
   ],
   "source": [
    "points = torch.ones(3, 4)\n",
    "points_np = points.numpy()\n",
    "points_np"
   ],
   "metadata": {
    "collapsed": false
   }
  },
  {
   "cell_type": "code",
   "execution_count": 64,
   "outputs": [
    {
     "data": {
      "text/plain": "tensor([[1., 1., 1., 1.],\n        [1., 1., 1., 1.],\n        [1., 1., 1., 1.]])"
     },
     "execution_count": 64,
     "metadata": {},
     "output_type": "execute_result"
    }
   ],
   "source": [
    "points = torch.from_numpy(points_np)\n",
    "points"
   ],
   "metadata": {
    "collapsed": false
   }
  },
  {
   "cell_type": "markdown",
   "source": [
    "## 3.12 序列化张量"
   ],
   "metadata": {
    "collapsed": false
   }
  }
 ],
 "metadata": {
  "kernelspec": {
   "display_name": "Python 3",
   "language": "python",
   "name": "python3"
  },
  "language_info": {
   "codemirror_mode": {
    "name": "ipython",
    "version": 2
   },
   "file_extension": ".py",
   "mimetype": "text/x-python",
   "name": "python",
   "nbconvert_exporter": "python",
   "pygments_lexer": "ipython2",
   "version": "2.7.6"
  }
 },
 "nbformat": 4,
 "nbformat_minor": 0
}
